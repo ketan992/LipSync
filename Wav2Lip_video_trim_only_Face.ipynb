{
  "nbformat": 4,
  "nbformat_minor": 0,
  "metadata": {
    "colab": {
      "provenance": [],
      "gpuType": "T4"
    },
    "kernelspec": {
      "name": "python3",
      "display_name": "Python 3"
    },
    "language_info": {
      "name": "python"
    },
    "accelerator": "GPU"
  },
  "cells": [
    {
      "cell_type": "markdown",
      "source": [
        "**Video with only faces**\n"
      ],
      "metadata": {
        "id": "XFlsB_2hvUIH"
      }
    },
    {
      "cell_type": "code",
      "execution_count": 1,
      "metadata": {
        "id": "_6B_6X_5u7qH"
      },
      "outputs": [],
      "source": [
        "import cv2"
      ]
    },
    {
      "cell_type": "code",
      "source": [
        "from google.colab import drive"
      ],
      "metadata": {
        "id": "6PrkkRblb69z"
      },
      "execution_count": 2,
      "outputs": []
    },
    {
      "cell_type": "code",
      "source": [
        "drive.mount('/content/drive')"
      ],
      "metadata": {
        "colab": {
          "base_uri": "https://localhost:8080/"
        },
        "id": "_ngspQTQb_fM",
        "outputId": "c834fa3d-4673-4692-c444-4bf10397de10"
      },
      "execution_count": 3,
      "outputs": [
        {
          "output_type": "stream",
          "name": "stdout",
          "text": [
            "Mounted at /content/drive\n"
          ]
        }
      ]
    },
    {
      "cell_type": "code",
      "source": [
        "frames_written = 0\n",
        "max_frames = 6000  # 50 fps * 120 seconds\n",
        "\n",
        "video = cv2.VideoCapture(\"/content/drive/MyDrive/video.mp4\")\n",
        "frame_width = int(video.get(3))\n",
        "frame_height = int(video.get(4))\n",
        "out = cv2.VideoWriter('output_video.mp4', cv2.VideoWriter_fourcc(*'mp4v'), 50, (frame_width, frame_height))\n",
        "\n",
        "# Haar Cascade classifier for face detection\n",
        "face_cascade = cv2.CascadeClassifier(cv2.data.haarcascades + 'haarcascade_frontalface_default.xml')\n",
        "\n",
        "while True:\n",
        "    ret, frame = video.read()\n",
        "    if not ret or frames_written >= max_frames:\n",
        "        break\n",
        "    #grayscale\n",
        "    gray_frame = cv2.cvtColor(frame, cv2.COLOR_BGR2GRAY)\n",
        "    # Face Detection\n",
        "    faces = face_cascade.detectMultiScale(gray_frame, scaleFactor=1.1, minNeighbors=5, minSize=(30, 30), flags=cv2.CASCADE_SCALE_IMAGE)\n",
        "    # Check if any faces are detected\n",
        "    if len(faces) > 0:\n",
        "        # Write the frame to the output video\n",
        "        out.write(frame)\n",
        "        frames_written += 1\n",
        "\n",
        "video.release()\n",
        "out.release()\n",
        "cv2.destroyAllWindows()\n"
      ],
      "metadata": {
        "colab": {
          "base_uri": "https://localhost:8080/"
        },
        "id": "IeNWls3lwx6Z",
        "outputId": "0b961cb5-ade0-4ba5-d0ad-efea82e3136d"
      },
      "execution_count": 5,
      "outputs": [
        {
          "output_type": "stream",
          "name": "stdout",
          "text": [
            "Video has ended or max frames reached.\n"
          ]
        }
      ]
    }
  ]
}